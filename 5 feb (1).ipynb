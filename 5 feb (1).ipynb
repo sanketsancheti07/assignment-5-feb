{
 "cells": [
  {
   "cell_type": "markdown",
   "id": "880eb94c-9aa3-4a26-9ea6-2e0caa55c0b8",
   "metadata": {},
   "source": [
    "Q.1"
   ]
  },
  {
   "cell_type": "markdown",
   "id": "c0a7b1f5-eacb-4a01-aca9-e1f52d200b14",
   "metadata": {},
   "source": [
    "class : class is a classification of real world entity. it defines the methods and properties of the object of a particular type.\n",
    "object : object is a real world entity. it is an instance of a class also known as variable.it defines its own characteristics and behaviour which are define by the class.\n",
    "example : consider a class 'car' which has its properties such as make, year, model, speed. each object in the class 'car' have its own unique properties to represent."
   ]
  },
  {
   "cell_type": "markdown",
   "id": "55d20dbf-c1ca-4dab-86dd-619ecf0a8c82",
   "metadata": {},
   "source": [
    "Q.2\n"
   ]
  },
  {
   "cell_type": "markdown",
   "id": "0cc9ef83-fe6a-4548-a7e4-b80c8e8c7959",
   "metadata": {},
   "source": [
    "The four pillars of OOPs are\n",
    "1. Abstraction\n",
    "2. polymorphism\n",
    "3. inheritance\n",
    "4. encapsulation"
   ]
  },
  {
   "cell_type": "markdown",
   "id": "b9e09aa1-d16e-4dd4-a6c3-df92f89512f4",
   "metadata": {},
   "source": [
    "Q.3"
   ]
  },
  {
   "cell_type": "markdown",
   "id": "16b6d542-576f-42f2-b748-cbdee27ae073",
   "metadata": {},
   "source": [
    "the init() function is used as constructor. it is a special method in python that is called when an object of the class is created.the init() function id called automatically when a new object is created from a class."
   ]
  },
  {
   "cell_type": "code",
   "execution_count": 2,
   "id": "673810b9-b4cf-4ab0-9b34-4b8fcde16697",
   "metadata": {},
   "outputs": [],
   "source": [
    "def __init__(self,age,year):\n",
    "    self.age = age\n",
    "    self.year = year"
   ]
  },
  {
   "cell_type": "markdown",
   "id": "62d34873-8ef8-4f2a-a945-9454c816aa1b",
   "metadata": {},
   "source": [
    "Q.4"
   ]
  },
  {
   "cell_type": "markdown",
   "id": "7240f623-961f-415e-829d-2aa374c8c7a3",
   "metadata": {},
   "source": [
    "The self parameter is a reference to the current instance of the class, and is used to access variables that belongs to the class. It does not have to be named self , you can call it whatever you like, but it has to be the first parameter of any function in the class."
   ]
  },
  {
   "cell_type": "code",
   "execution_count": 3,
   "id": "8630570d-deca-4d93-894c-8cdf0de82a35",
   "metadata": {},
   "outputs": [
    {
     "name": "stdout",
     "output_type": "stream",
     "text": [
      "Name: zoi daniels\n",
      "Age: 38\n"
     ]
    }
   ],
   "source": [
    "class Person:\n",
    "    def __init__(self, name, age):\n",
    "        self.name = name\n",
    "        self.age = age\n",
    "\n",
    "    def display(self):\n",
    "        print(\"Name:\", self.name)\n",
    "        print(\"Age:\", self.age)\n",
    "\n",
    "person = Person(\"zoi daniels\", 38)\n",
    "person.display()"
   ]
  },
  {
   "cell_type": "markdown",
   "id": "9c18e462-984f-4673-97b6-b41ac76d0063",
   "metadata": {},
   "source": [
    "Q.5"
   ]
  },
  {
   "cell_type": "markdown",
   "id": "f4dd7a4d-bdfb-4e9f-9a64-4bf0baca5f60",
   "metadata": {},
   "source": [
    "Inheritance is a mechanism that allows you to create a hierarchy of classes that share a set of properties and methods by deriving a class from another class. Inheritance is the capability of one class to derive or inherit the properties from another class. "
   ]
  },
  {
   "cell_type": "markdown",
   "id": "90288384-4cc9-4eb9-9235-e4c9db1a885c",
   "metadata": {},
   "source": [
    "1.Simple Inheritance: A child class inherits the properties and methods of a single parent class. For example, a \"Student\" class inherits the properties and methods of a \"Person\" class.\n",
    "\n",
    "2.Multiple Inheritance: A child class inherits the properties and methods of multiple parent classes. For example, a \"Manager\" class can inherit from both \"Employee\" and \"Person\" classes.\n",
    "\n",
    "3.Hierarchical Inheritance: Multiple child classes inherit from a single parent class. For example, \"Dog\", \"Cat\", and \"Horse\" classes can all inherit from an \"Animal\" class.\n",
    "\n",
    "4.Hybrid Inheritance: A combination of two or more types of inheritance, for example, a class can inherit properties from one parent class using multiple inheritance and also from another parent class using hierarchical inheritance."
   ]
  },
  {
   "cell_type": "code",
   "execution_count": null,
   "id": "a8a55373-cb59-497b-9112-bacc280df217",
   "metadata": {},
   "outputs": [],
   "source": []
  }
 ],
 "metadata": {
  "kernelspec": {
   "display_name": "Python 3 (ipykernel)",
   "language": "python",
   "name": "python3"
  },
  "language_info": {
   "codemirror_mode": {
    "name": "ipython",
    "version": 3
   },
   "file_extension": ".py",
   "mimetype": "text/x-python",
   "name": "python",
   "nbconvert_exporter": "python",
   "pygments_lexer": "ipython3",
   "version": "3.10.8"
  }
 },
 "nbformat": 4,
 "nbformat_minor": 5
}
